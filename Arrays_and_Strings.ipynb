{
  "nbformat": 4,
  "nbformat_minor": 0,
  "metadata": {
    "colab": {
      "provenance": [],
      "authorship_tag": "ABX9TyMJNCv4n3QfQm6XCstry/oi",
      "include_colab_link": true
    },
    "kernelspec": {
      "name": "python3",
      "display_name": "Python 3"
    },
    "language_info": {
      "name": "python"
    }
  },
  "cells": [
    {
      "cell_type": "markdown",
      "metadata": {
        "id": "view-in-github",
        "colab_type": "text"
      },
      "source": [
        "<a href=\"https://colab.research.google.com/github/nathanschoeck/Data-Structures-and-Algorithms/blob/main/Arrays_and_Strings.ipynb\" target=\"_parent\"><img src=\"https://colab.research.google.com/assets/colab-badge.svg\" alt=\"Open In Colab\"/></a>"
      ]
    },
    {
      "cell_type": "markdown",
      "source": [
        "#Arrays and Strings"
      ],
      "metadata": {
        "id": "ITi5YuGlz0va"
      }
    },
    {
      "cell_type": "markdown",
      "source": [
        "In terms of algorithm problems, arrays (1D) and strings are very similar: they both represent an ordered group of elements."
      ],
      "metadata": {
        "id": "jcxGUKVL2z1Z"
      }
    },
    {
      "cell_type": "code",
      "execution_count": null,
      "metadata": {
        "id": "OJDMaEoMyxwc"
      },
      "outputs": [],
      "source": [
        "arr = []"
      ]
    },
    {
      "cell_type": "markdown",
      "source": [
        "Technically, an array can't be resized. A dynamic array, or list, can be."
      ],
      "metadata": {
        "id": "8xSDfwJ029cb"
      }
    },
    {
      "cell_type": "markdown",
      "source": [
        "In Python and Java, strings are immutable. Mutable: a type of data that can be changed. Immutable: A type of data that cannot be changed. If you want to change something immutable, you will need to recreate the entire thing."
      ],
      "metadata": {
        "id": "39dHJ_dPAt9s"
      }
    },
    {
      "cell_type": "markdown",
      "source": [
        "Why should we care about something being mutable or immutable? If you have a mutable array arr = [\"a\", \"b\", \"c\"] and an immutable string s = \"abc\", but you want to instead represent \"abd\", you can easily do arr[2] = \"d\", but you cannot do s[2] = \"d\". As such, if you wanted the string s = \"abd\", you would need to create it entirely from scratch."
      ],
      "metadata": {
        "id": "1owS8goZBBjg"
      }
    },
    {
      "cell_type": "markdown",
      "source": [
        "#1. Two Pointers"
      ],
      "metadata": {
        "id": "ze5iYVQ-e7Tp"
      }
    },
    {
      "cell_type": "markdown",
      "source": [
        "Start the pointers at the edges of the input. Move them towards each other until they meet."
      ],
      "metadata": {
        "id": "FC3UuByaCUoD"
      }
    },
    {
      "cell_type": "code",
      "source": [
        "\"\"\"\n",
        "function fn(arr):\n",
        "    left = 0\n",
        "    right = arr.length - 1\n",
        "\n",
        "    while left < right:\n",
        "        Do some logic here depending on the problem\n",
        "        Do some more logic here to decide on one of the following:\n",
        "            1. left++\n",
        "            2. right--\n",
        "            3. Both left++ and right--\n",
        "\"\"\""
      ],
      "metadata": {
        "id": "qji00IABCRax"
      },
      "execution_count": null,
      "outputs": []
    },
    {
      "cell_type": "markdown",
      "source": [
        "#Example 1"
      ],
      "metadata": {
        "id": "ts58vsUNzsa3"
      }
    },
    {
      "cell_type": "code",
      "source": [
        "def check_if_palindrome(s):\n",
        "  left = 0\n",
        "  right = len(s) - 1\n",
        "\n",
        "  while left < right:\n",
        "    if s[left] != s[right]:\n",
        "      return False\n",
        "    left += 1\n",
        "    right -= 1\n",
        "\n",
        "  return True"
      ],
      "metadata": {
        "id": "yqvUtYOcw6cz"
      },
      "execution_count": 2,
      "outputs": []
    },
    {
      "cell_type": "markdown",
      "source": [
        "The algorithm runs in O(n) and only uses O(1) space."
      ],
      "metadata": {
        "id": "EI4bSFTzxogt"
      }
    },
    {
      "cell_type": "markdown",
      "source": [
        "#Example 2"
      ],
      "metadata": {
        "id": "-tNOe98Czyqn"
      }
    },
    {
      "cell_type": "markdown",
      "source": [
        "Given a sorted array of unique integers and a target integer, return true if there exists a pair of numbers that sum to target, false otherwise. For example, given nums = [1, 2, 4, 6, 8, 9, 14, 15] and target = 13, return true because 4 + 9 = 13."
      ],
      "metadata": {
        "id": "OHgBHuBHyq5h"
      }
    },
    {
      "cell_type": "code",
      "source": [
        "def check_for_target(nums, target):\n",
        "    left = 0\n",
        "    right = len(nums) - 1\n",
        "\n",
        "    while left < right:\n",
        "        # curr is the current sum\n",
        "        curr = nums[left] + nums[right]\n",
        "        if curr == target:\n",
        "            return True\n",
        "        if curr > target:\n",
        "            right -= 1\n",
        "        else:\n",
        "            left += 1\n",
        "\n",
        "    return False"
      ],
      "metadata": {
        "id": "Pef_mK3fyqpw"
      },
      "execution_count": null,
      "outputs": []
    },
    {
      "cell_type": "markdown",
      "source": [
        "With two pointers, we start by looking at the first and last numbers. Their sum is 1 + 15 = 16. Because 16 > target, we need to make our current sum smaller. Therefore, we should move the right pointer. Now, we have 1 + 14 = 15. Again, move the right pointer because the sum is too large. Now, 1 + 9 = 10. Since the sum is too small, we need to make it bigger, which can be done by moving the left pointer. 2 + 9 = 11 < target, so move it again. Finally, 4 + 9 = 13 = target."
      ],
      "metadata": {
        "id": "pPol19EWywhs"
      }
    },
    {
      "cell_type": "markdown",
      "source": [
        "This algorithm uses O(1) space and has a time complexity of O(n).\n",
        "\n"
      ],
      "metadata": {
        "id": "Fl8D9LhhzDU4"
      }
    },
    {
      "cell_type": "markdown",
      "source": [
        "#Example 3"
      ],
      "metadata": {
        "id": "Rj1JTI7Xz-jQ"
      }
    },
    {
      "cell_type": "markdown",
      "source": [
        "Move along both inputs simultaneously until all elements have been checked."
      ],
      "metadata": {
        "id": "uV273UC40BVJ"
      }
    },
    {
      "cell_type": "code",
      "source": [
        "\"\"\"\n",
        "function fn(arr1, arr2):\n",
        "    i = j = 0\n",
        "    while i < arr1.length AND j < arr2.length:\n",
        "        Do some logic here depending on the problem\n",
        "        Do some more logic here to decide on one of the following:\n",
        "            1. i++\n",
        "            2. j++\n",
        "            3. Both i++ and j++\n",
        "\n",
        "    // Step 4: make sure both iterables are exhausted\n",
        "    // Note that only one of these loops would run\n",
        "    while i < arr1.length:\n",
        "        Do some logic here depending on the problem\n",
        "        i++\n",
        "\n",
        "    while j < arr2.length:\n",
        "        Do some logic here depending on the problem\n",
        "        j++\n",
        "\"\"\""
      ],
      "metadata": {
        "id": "UPEFGIsCxkJG"
      },
      "execution_count": null,
      "outputs": []
    },
    {
      "cell_type": "markdown",
      "source": [
        "Time complexity of O(n+m) if the work inside the while loop is O(1), where n = arr1.length and m = arr2.length."
      ],
      "metadata": {
        "id": "HsAegH8Z0rlY"
      }
    },
    {
      "cell_type": "markdown",
      "source": [
        "#Example 4"
      ],
      "metadata": {
        "id": "WiTUPyfn00_V"
      }
    },
    {
      "cell_type": "markdown",
      "source": [
        "Given two sorted integer arrays arr1 and arr2, return a new array that combines both of them and is also sorted."
      ],
      "metadata": {
        "id": "qkZrj-fL03jW"
      }
    },
    {
      "cell_type": "markdown",
      "source": [
        "The trivial approach would be to first combine both input arrays and then perform a sort. If we have n = arr1.length + arr2.length, then this gives a time complexity of O(n⋅logn) (the cost of sorting). This would be a good approach if the input arrays were not sorted, but because they are sorted, we can take advantage of the two pointers technique to improve to O(n)."
      ],
      "metadata": {
        "id": "mQcwK2V30_MV"
      }
    },
    {
      "cell_type": "code",
      "source": [
        "def combine(arr1, arr2):\n",
        "    # ans is the answer\n",
        "    ans = []\n",
        "    i = j = 0\n",
        "    while i < len(arr1) and j < len(arr2):\n",
        "        if arr1[i] < arr2[j]:\n",
        "            ans.append(arr1[i])\n",
        "            i += 1\n",
        "        else:\n",
        "            ans.append(arr2[j])\n",
        "            j += 1\n",
        "\n",
        "    while i < len(arr1):\n",
        "        ans.append(arr1[i])\n",
        "        i += 1\n",
        "\n",
        "    while j < len(arr2):\n",
        "        ans.append(arr2[j])\n",
        "        j += 1\n",
        "\n",
        "    return ans"
      ],
      "metadata": {
        "id": "xqxndP4v024F"
      },
      "execution_count": null,
      "outputs": []
    },
    {
      "cell_type": "markdown",
      "source": [
        "Time complexity of O(n) and uses O(1) space."
      ],
      "metadata": {
        "id": "s7Hh5Up11kRC"
      }
    },
    {
      "cell_type": "markdown",
      "source": [
        "#Example 4"
      ],
      "metadata": {
        "id": "MbStyRbd1s0V"
      }
    },
    {
      "cell_type": "markdown",
      "source": [
        "Given two strings s and t, return true if s is a subsequence of t, or false otherwise."
      ],
      "metadata": {
        "id": "67VNlKNH1uqZ"
      }
    },
    {
      "cell_type": "code",
      "source": [
        "class Solution:\n",
        "    def isSubsequence(self, s: str, t: str) -> bool:\n",
        "        i = j = 0\n",
        "        while i < len(s) and j < len(t):\n",
        "            if s[i] == t[j]:\n",
        "                i += 1\n",
        "            j += 1\n",
        "\n",
        "        return i == len(s)"
      ],
      "metadata": {
        "id": "nQWn6WbJ1vcn"
      },
      "execution_count": null,
      "outputs": []
    },
    {
      "cell_type": "markdown",
      "source": [
        "Time complexity O(n) and space complexity O(1)."
      ],
      "metadata": {
        "id": "nyShEFQW2Gky"
      }
    },
    {
      "cell_type": "markdown",
      "source": [
        "#Reverse String"
      ],
      "metadata": {
        "id": "m5JdmNI82ZSB"
      }
    },
    {
      "cell_type": "markdown",
      "source": [
        "Write a function that reverses a string. The input string is given as an array of characters s."
      ],
      "metadata": {
        "id": "6VGWERJ42eHB"
      }
    },
    {
      "cell_type": "code",
      "source": [
        "class Solution:\n",
        "    def reverseString(self, s: List[str]) -> None:\n",
        "        \"\"\"\n",
        "        Do not return anything, modify s in-place instead.\n",
        "        \"\"\"\n",
        "        i = 0\n",
        "        j = len(s) - 1\n",
        "        while i < len(s) / 2:\n",
        "            temp = s[i]\n",
        "            s[i] = s[j]\n",
        "            s[j] = temp\n",
        "            i += 1\n",
        "            j -= 1\n",
        "        return s"
      ],
      "metadata": {
        "id": "lensAHyr2dmU"
      },
      "execution_count": null,
      "outputs": []
    },
    {
      "cell_type": "markdown",
      "source": [
        "Time and space complexity of O(n)."
      ],
      "metadata": {
        "id": "aEiHoyRw4MEX"
      }
    },
    {
      "cell_type": "markdown",
      "source": [
        "# Squares of a Sorted Array"
      ],
      "metadata": {
        "id": "FUqXzbwI4Pak"
      }
    },
    {
      "cell_type": "code",
      "source": [
        "from typing import List\n",
        "\n",
        "class Solution:\n",
        "    def sortedSquares(self, nums: List[int]) -> List[int]:\n",
        "      temp = []\n",
        "      for num in nums:\n",
        "        temp.append(num ** 2)\n",
        "        temp.sort()\n",
        "      return temp"
      ],
      "metadata": {
        "id": "VqVjvuaW4SET"
      },
      "execution_count": 5,
      "outputs": []
    },
    {
      "cell_type": "markdown",
      "source": [
        "#2. Sliding Window"
      ],
      "metadata": {
        "id": "8ncnUcpe6kri"
      }
    },
    {
      "cell_type": "markdown",
      "source": [
        "Sliding window is another common approach to solving problems related to arrays."
      ],
      "metadata": {
        "id": "khCdCw476oIz"
      }
    },
    {
      "cell_type": "markdown",
      "source": [
        "Given an array, a subarray is a contiguous section of the array. All the elements must be adjacent to each other in the original array and in their original order. For example, with the array [1, 2, 3, 4], the subarrays (grouped by length) are:\n",
        "\n",
        "[1], [2], [3], [4]\n",
        "[1, 2], [2, 3], [3, 4]\n",
        "[1, 2, 3], [2, 3, 4]\n",
        "[1, 2, 3, 4]"
      ],
      "metadata": {
        "id": "Sx_GH5U26vDP"
      }
    },
    {
      "cell_type": "markdown",
      "source": [
        "A subarray can be defined by two indices, the start and end. For example, with [1, 2, 3, 4], the subarray [2, 3] has a starting index of 1 and an ending index of 2. The starting index is called the left bound and the ending index is called the right bound. Another name for subarray in this context is \"window\"."
      ],
      "metadata": {
        "id": "gt61ul9W62Y1"
      }
    },
    {
      "cell_type": "markdown",
      "source": [
        "#Example 1"
      ],
      "metadata": {
        "id": "vfu6r5KqAoj-"
      }
    },
    {
      "cell_type": "code",
      "source": [
        "def fn(nums, k):\n",
        "    left = 0\n",
        "    curr = 0\n",
        "    answer = 0\n",
        "\n",
        "    for right in range(len(nums)):\n",
        "        curr += nums[right]\n",
        "        while curr > k:\n",
        "            curr -= nums[left]\n",
        "            left += 1\n",
        "\n",
        "        answer = max(answer, right - left + 1)\n",
        "\n",
        "    return answer\n",
        "\n",
        "# Example usage\n",
        "nums = [1, 2, 3, 4, 5]\n",
        "k = 8\n",
        "print(fn(nums, k))  # Output: 3 (subarray [1, 2, 3] or [2, 3, 4])"
      ],
      "metadata": {
        "colab": {
          "base_uri": "https://localhost:8080/"
        },
        "id": "5skFWvDY4L1x",
        "outputId": "c57a3412-958f-4141-e0a3-57c65888b87b"
      },
      "execution_count": 6,
      "outputs": [
        {
          "output_type": "stream",
          "name": "stdout",
          "text": [
            "3\n"
          ]
        }
      ]
    },
    {
      "cell_type": "markdown",
      "source": [
        "Time complexity O(n)."
      ],
      "metadata": {
        "id": "1-T1yrHm9_Ki"
      }
    },
    {
      "cell_type": "markdown",
      "source": [
        "#Example 2"
      ],
      "metadata": {
        "id": "RswI4NFxArfa"
      }
    },
    {
      "cell_type": "markdown",
      "source": [
        "You are given a binary string s (a string containing only \"0\" and \"1\"). You may choose up to one \"0\" and flip it to a \"1\". What is the length of the longest substring achievable that contains only \"1\"?"
      ],
      "metadata": {
        "id": "PEVtC1GfAtZ8"
      }
    },
    {
      "cell_type": "code",
      "source": [
        "def find_length(s):\n",
        "    # curr is the current number of zeros in the window\n",
        "    left = curr = ans = 0\n",
        "    for right in range(len(s)):\n",
        "        if s[right] == \"0\":\n",
        "            curr += 1\n",
        "        while curr > 1:\n",
        "            if s[left] == \"0\":\n",
        "                curr -= 1\n",
        "            left += 1\n",
        "        ans = max(ans, right - left + 1)\n",
        "\n",
        "    return ans"
      ],
      "metadata": {
        "id": "9EYF6zke9nj2"
      },
      "execution_count": 7,
      "outputs": []
    },
    {
      "cell_type": "markdown",
      "source": [
        "#Example 3"
      ],
      "metadata": {
        "id": "sf4DlvLOLBTj"
      }
    },
    {
      "cell_type": "markdown",
      "source": [
        "Subarray Product Less Than K"
      ],
      "metadata": {
        "id": "iS1XzP_rLDFF"
      }
    },
    {
      "cell_type": "markdown",
      "source": [
        "Given an array of positive integers nums and an integer k, return the number of subarrays where the product of all the elements in the subarray is strictly less than k.\n",
        "\n",
        "For example, given the input nums = [10, 5, 2, 6], k = 100, the answer is 8. The subarrays with products less than k are:\n",
        "\n",
        "[10], [5], [2], [6], [10, 5], [5, 2], [2, 6], [5, 2, 6]"
      ],
      "metadata": {
        "id": "HkLUC5RALLLI"
      }
    },
    {
      "cell_type": "markdown",
      "source": [
        "When we reach index 2, the product becomes too large, so we need to remove the leftmost element 10. Now, the window is valid, and it has a length of 2."
      ],
      "metadata": {
        "id": "1ClObIHSLiy_"
      }
    },
    {
      "cell_type": "code",
      "source": [
        "class Solution:\n",
        "    def numSubarrayProductLessThanK(self, nums: List[int], k: int) -> int:\n",
        "        if k <= 1:\n",
        "            return 0\n",
        "\n",
        "        ans = left = 0\n",
        "        curr = 1\n",
        "\n",
        "        for right in range(len(nums)):\n",
        "            curr *= nums[right]\n",
        "            while curr >= k:\n",
        "                curr //= nums[left]\n",
        "                left += 1\n",
        "\n",
        "            ans += right - left + 1\n",
        "\n",
        "        return ans"
      ],
      "metadata": {
        "id": "blE02ywTAwK4"
      },
      "execution_count": null,
      "outputs": []
    },
    {
      "cell_type": "markdown",
      "source": [
        "#Fixed Window"
      ],
      "metadata": {
        "id": "EMVA-ovlMW02"
      }
    },
    {
      "cell_type": "code",
      "source": [
        "def find_best_subarray(nums, k):\n",
        "    curr = 0\n",
        "    for i in range(k):\n",
        "        curr += nums[i]\n",
        "\n",
        "    ans = curr\n",
        "    for i in range(k, len(nums)):\n",
        "        curr += nums[i] - nums[i - k]\n",
        "        ans = max(ans, curr)\n",
        "\n",
        "    return ans"
      ],
      "metadata": {
        "id": "tYFy7zWIMY6Q"
      },
      "execution_count": null,
      "outputs": []
    },
    {
      "cell_type": "markdown",
      "source": [
        "Time complexity of O(n), using O(1) space."
      ],
      "metadata": {
        "id": "npz3Eso3Npbd"
      }
    },
    {
      "cell_type": "markdown",
      "source": [
        "#Maximum Average Subarray I"
      ],
      "metadata": {
        "id": "1jJHhOCjNz01"
      }
    },
    {
      "cell_type": "markdown",
      "source": [
        "You are given an integer array nums consisting of n elements, and an integer k.\n",
        "\n",
        "Find a contiguous subarray whose length is equal to k that has the maximum average value and return this value."
      ],
      "metadata": {
        "id": "6_BTB1s-N2nK"
      }
    },
    {
      "cell_type": "code",
      "source": [
        "class Solution:\n",
        "    def findMaxAverage(self, nums: List[int], k: int) -> float:\n",
        "\n",
        "        # Initialize currSum and maxSum to the sum of the initial k elements\n",
        "        currSum = maxSum = sum(nums[:k])\n",
        "\n",
        "        # Start the loop from the kth element\n",
        "        # Iterate until you reach the end\n",
        "        for i in range(k, len(nums)):\n",
        "\n",
        "            # Subtract the left element of the window\n",
        "            # Add the right element of the window\n",
        "            currSum += nums[i] - nums[i - k]\n",
        "\n",
        "            # Update the max\n",
        "            maxSum = max(maxSum, currSum)\n",
        "\n",
        "        # Since the problem requires average, we return the average\n",
        "        return maxSum / k"
      ],
      "metadata": {
        "id": "JGXwhDmUN8rz"
      },
      "execution_count": null,
      "outputs": []
    },
    {
      "cell_type": "markdown",
      "source": [
        "#Max Consecutive Ones III"
      ],
      "metadata": {
        "id": "K6XL9TOtPk2G"
      }
    },
    {
      "cell_type": "markdown",
      "source": [
        "Given a binary array nums and an integer k, return the maximum number of consecutive 1's in the array if you can flip at most k 0's."
      ],
      "metadata": {
        "id": "AbTjJEyFPm_9"
      }
    },
    {
      "cell_type": "code",
      "source": [
        "class Solution:\n",
        "    def longestOnes(self, nums: List[int], k: int) -> int:\n",
        "        left = 0\n",
        "        for right in range(len(nums)):\n",
        "            # If we included a zero in the window we reduce the value of k.\n",
        "            # Since k is the maximum zeros allowed in a window.\n",
        "            k -= 1 - nums[right]\n",
        "            # A negative k denotes we have consumed all allowed flips and window has\n",
        "            # more than allowed zeros, thus increment left pointer by 1 to keep the window size same.\n",
        "            if k < 0:\n",
        "                # If the left element to be thrown out is zero we increase k.\n",
        "                k += 1 - nums[left]\n",
        "                left += 1\n",
        "        return right - left + 1"
      ],
      "metadata": {
        "id": "PcArSsjzPlz_"
      },
      "execution_count": null,
      "outputs": []
    },
    {
      "cell_type": "markdown",
      "source": [
        "#3. Prefix Sum"
      ],
      "metadata": {
        "id": "O7zrMwmz4XJM"
      }
    },
    {
      "cell_type": "markdown",
      "source": [
        "Prefix sum is a technique that can be used on arrays (of numbers). The idea is to create an array prefix where prefix[i] is the sum of all elements up to the index i (inclusive). For example, given nums = [5, 2, 1, 6, 3, 8], we would have prefix = [5, 7, 8, 14, 17, 25]."
      ],
      "metadata": {
        "id": "Q31Epjt24ZW9"
      }
    },
    {
      "cell_type": "markdown",
      "source": [
        "#Running Sum of 1d Array"
      ],
      "metadata": {
        "id": "H6d59aADHUEY"
      }
    },
    {
      "cell_type": "code",
      "source": [
        "class Solution:\n",
        "    def runningSum(self, nums: List[int]) -> List[int]:\n",
        "        for i in range(1, len(nums)):\n",
        "            nums[i] += nums[i - 1]\n",
        "        return nums"
      ],
      "metadata": {
        "id": "rYGlEhHd5CUP"
      },
      "execution_count": null,
      "outputs": []
    },
    {
      "cell_type": "markdown",
      "source": [
        "#Minimum Value to Get Positive Step by Step Sum"
      ],
      "metadata": {
        "id": "b7dte-BnJPYh"
      }
    },
    {
      "cell_type": "code",
      "source": [
        "class Solution:\n",
        "    def minStartValue(self, nums: List[int]) -> int:\n",
        "        # Start with startValue = 1.\n",
        "        start_value = 1\n",
        "\n",
        "        # While we haven't found the first valid startValue\n",
        "        while True:\n",
        "            # The step-by-step total \"total\" equals startValue at the beginning.\n",
        "            # Use boolean parameter \"isValid\" to record whether the total\n",
        "            # is larger than or equal to 1.\n",
        "            total = start_value\n",
        "            is_valid = True\n",
        "\n",
        "            # Iterate over the array \"nums\".\n",
        "            for num in nums:\n",
        "                # In each iteration, calculate \"total\"\n",
        "                # plus the element \"num\" in the array.\n",
        "                total += num\n",
        "\n",
        "                # If \"total\" is less than 1, we shall try a larger startValue,\n",
        "                # we mark \"isValid\" as \"false\" and break the current iteration.\n",
        "                if total < 1:\n",
        "                    is_valid = False\n",
        "                    break\n",
        "\n",
        "            # If \"isVaild\" is true, meaning \"total\" is never less than 1 in the\n",
        "            # iteration, therefore we return this \"startValue\". Otherwise, we\n",
        "            # go ahead and try \"startValue\" + 1 as the new \"startValue\".\n",
        "            if is_valid:\n",
        "                return start_value\n",
        "            else:\n",
        "                start_value += 1"
      ],
      "metadata": {
        "id": "fs4lzBVDOEMJ"
      },
      "execution_count": null,
      "outputs": []
    },
    {
      "cell_type": "markdown",
      "source": [
        "#K Radius Subarray Averages"
      ],
      "metadata": {
        "id": "mKFN_2ZZOXfI"
      }
    },
    {
      "cell_type": "code",
      "source": [
        "class Solution:\n",
        "    def getAverages(self, nums: List[int], k: int) -> List[int]:\n",
        "        # When a single element is considered then its average will be the number itself only.\n",
        "        if k == 0:\n",
        "            return nums\n",
        "\n",
        "        window_size = 2 * k + 1\n",
        "        n = len(nums)\n",
        "        averages = [-1] * n\n",
        "\n",
        "        # Any index will not have 'k' elements in it's left and right.\n",
        "        if window_size > n:\n",
        "            return averages\n",
        "\n",
        "        # Generate 'prefix' array for 'nums'.\n",
        "        # 'prefix[i + 1]' will be sum of all elements of 'nums' from index '0' to 'i'.\n",
        "        prefix = [0] * (n + 1)\n",
        "        for i in range(n):\n",
        "            prefix[i + 1] = prefix[i] + nums[i]\n",
        "\n",
        "        # We iterate only on those indices which have atleast 'k' elements in their left and right.\n",
        "        # i.e. indices from 'k' to 'n - k'\n",
        "        for i in range(k, n - k):\n",
        "            leftBound, rightBound = i - k, i + k\n",
        "            subArraySum = prefix[rightBound + 1] - prefix[leftBound]\n",
        "            average = subArraySum // window_size\n",
        "            averages[i] = average\n",
        "\n",
        "        return averages"
      ],
      "metadata": {
        "id": "oQYRhKCrOZZp"
      },
      "execution_count": null,
      "outputs": []
    },
    {
      "cell_type": "markdown",
      "source": [
        "#O(n) String Building"
      ],
      "metadata": {
        "id": "mcSFEGa0bHx6"
      }
    },
    {
      "cell_type": "markdown",
      "source": [
        "Let's say the final string is of length n and we build it one character at a time with concatenation. The operations needed at each step would be 1 + 2 + 3 + ... + n. This is the partial sum of this series, which leads to O(n^2) operations."
      ],
      "metadata": {
        "id": "gCbrOWsibLaJ"
      }
    },
    {
      "cell_type": "markdown",
      "source": [
        "here are better ways to build strings in just O(n) time."
      ],
      "metadata": {
        "id": "XqSIjPzrbYDW"
      }
    },
    {
      "cell_type": "code",
      "source": [
        "def build_string(s):\n",
        "    arr = []\n",
        "    for c in s:\n",
        "        arr.append(c)\n",
        "\n",
        "    return \"\".join(arr)"
      ],
      "metadata": {
        "id": "bFflQAq8biCG"
      },
      "execution_count": null,
      "outputs": []
    },
    {
      "cell_type": "markdown",
      "source": [
        "#Subarrays/Substrings, Subsequences, and Subsets"
      ],
      "metadata": {
        "id": "rTaXLMUgb8Jl"
      }
    },
    {
      "cell_type": "markdown",
      "source": [
        "The size of a subarray between i and j (inclusive) is j - i + 1. This is also the number of subarrays that end at j, starting from i or later."
      ],
      "metadata": {
        "id": "D0xcE23TcDwQ"
      }
    },
    {
      "cell_type": "markdown",
      "source": [
        "For example, subsequences of [1, 2, 3, 4] include: [1, 3], [4], [], [2, 3], but not [3, 2], [5], [4, 1]."
      ],
      "metadata": {
        "id": "bmFR8DBQcVeU"
      }
    },
    {
      "cell_type": "markdown",
      "source": [
        "For example, given [1, 2, 3, 4], all of these are subsets: [3, 2], [4, 1, 2], [1]."
      ],
      "metadata": {
        "id": "v0RikMNqcV1l"
      }
    },
    {
      "cell_type": "markdown",
      "source": [
        "#Quiz"
      ],
      "metadata": {
        "id": "WY56KqpNc7dI"
      }
    },
    {
      "cell_type": "markdown",
      "source": [
        "Given nums = [5, 2, 3, 1, 6], the prefix sum would be: [5, 7, 10, 11, 17]"
      ],
      "metadata": {
        "id": "gXmi4oeJc8mN"
      }
    },
    {
      "cell_type": "markdown",
      "source": [
        "The time complexity of appending to the end of a dynamic array is: O(1) amortized; Sometimes the operation will cost O(n), but it doesn't happen often enough to make the average operation cost O(n)."
      ],
      "metadata": {
        "id": "qJ_s1L-9dDKN"
      }
    },
    {
      "cell_type": "markdown",
      "source": [
        "You have a mutable string and an array of characters with length n. You want to add all the characters in the array to the string one by one with string concatenation. What will the time complexity be? O(n)"
      ],
      "metadata": {
        "id": "xvMumA-SdIUS"
      }
    },
    {
      "cell_type": "markdown",
      "source": [
        "Sliding window algorithms have while loops inside for loops. Why is the time complexity still O(n)? The while loop can only iterate n times in total, so we say the work inside the for loop is amortized O(1)."
      ],
      "metadata": {
        "id": "jlbpgcLFdLgu"
      }
    },
    {
      "cell_type": "markdown",
      "source": [
        "You have a subarray that starts at index left and ends at index right (inclusive). How many elements are in the subarray? right - left + 1"
      ],
      "metadata": {
        "id": "hVUvm9rtdbsE"
      }
    },
    {
      "cell_type": "code",
      "source": [
        "class Solution:\n",
        "    def numSubarrayProductLessThanK(self, nums: List[int], k: int) -> int:\n",
        "        if k <= 1:\n",
        "            return 0\n",
        "\n",
        "        ans = left = 0\n",
        "        curr = 1\n",
        "\n",
        "        for right in range(len(nums)):\n",
        "            curr *= nums[right]\n",
        "            while curr >= k:\n",
        "                curr //= nums[left]\n",
        "                left += 1 # A\n",
        "\n",
        "            ans += right - left + 1\n",
        "\n",
        "        return ans"
      ],
      "metadata": {
        "id": "I60DadsDdkmm"
      },
      "execution_count": null,
      "outputs": []
    },
    {
      "cell_type": "markdown",
      "source": [
        "If the line of code with comment \"A\" were removed, what would happen during execution, and how would it affect our answer? The left pointer would never move from the first element."
      ],
      "metadata": {
        "id": "3xqO2CkydljJ"
      }
    },
    {
      "cell_type": "markdown",
      "source": [
        "Initially, our window is empty, so our window's product is 0. Why do we initialize curr with 1 and not 0? If we initialized curr = 0, then curr would never change from 0."
      ],
      "metadata": {
        "id": "D6_BuhuzeEZx"
      }
    },
    {
      "cell_type": "markdown",
      "source": [
        "When calculating the answer, why do we add right - left + 1? Locking in the ending point, we have right - left + 1 choices for the starting point."
      ],
      "metadata": {
        "id": "XiQ6D_SmeXmp"
      }
    }
  ]
}