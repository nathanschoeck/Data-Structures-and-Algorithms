{
  "nbformat": 4,
  "nbformat_minor": 0,
  "metadata": {
    "colab": {
      "provenance": [],
      "authorship_tag": "ABX9TyPDBffeE0oL/aNOxCX2sGAK",
      "include_colab_link": true
    },
    "kernelspec": {
      "name": "python3",
      "display_name": "Python 3"
    },
    "language_info": {
      "name": "python"
    }
  },
  "cells": [
    {
      "cell_type": "markdown",
      "metadata": {
        "id": "view-in-github",
        "colab_type": "text"
      },
      "source": [
        "<a href=\"https://colab.research.google.com/github/nathanschoeck/Data-Structures-and-Algorithms/blob/main/Recursion.ipynb\" target=\"_parent\"><img src=\"https://colab.research.google.com/assets/colab-badge.svg\" alt=\"Open In Colab\"/></a>"
      ]
    },
    {
      "cell_type": "markdown",
      "source": [
        "Recursion is a problem solving method. In code, recursion is implemented using a function that calls itself.\n",
        "\n",
        "The opposite of a recursive algorithm would be an iterative algorithm. There is a branch of study that proves that any iterative algorithm can be written recursively. While iterative algorithms use for loops and while loops to simulate repetition, recursive algorithms use function calls to simulate the same logic."
      ],
      "metadata": {
        "id": "qbyav5xbubgx"
      }
    },
    {
      "cell_type": "markdown",
      "source": [
        "Iterative Algorithm:"
      ],
      "metadata": {
        "id": "9x3TiU55ufxh"
      }
    },
    {
      "cell_type": "code",
      "source": [
        "# Loop from 1 to 10\n",
        "for i in range(1, 11):\n",
        "    print(i)"
      ],
      "metadata": {
        "id": "oChu-R7uucN2"
      },
      "execution_count": null,
      "outputs": []
    },
    {
      "cell_type": "markdown",
      "source": [
        "Equivalent Recursive Algorithm:"
      ],
      "metadata": {
        "id": "Fbp-7d1kuquc"
      }
    },
    {
      "cell_type": "code",
      "execution_count": null,
      "metadata": {
        "id": "1jG7aA0WqecU"
      },
      "outputs": [],
      "source": [
        "def fn(i):\n",
        "    print(i)\n",
        "    fn(i + 1)  # Recursive call\n",
        "    return\n",
        "\n",
        "# Call the function starting from 1\n",
        "fn(1)"
      ]
    },
    {
      "cell_type": "markdown",
      "source": [
        "The function call prints 1, then calls fn(2). In fn(2), we print 2, then call fn(3), and so on. Running this code would print natural numbers (positive integers) infinitely."
      ],
      "metadata": {
        "id": "RSfBfg2uwRAO"
      }
    },
    {
      "cell_type": "markdown",
      "source": [
        "We need what is called a base case to make the recursion stop. Base cases are conditions at the start of recursive functions that terminate the calls."
      ],
      "metadata": {
        "id": "_mbGrQ-bwgo6"
      }
    },
    {
      "cell_type": "code",
      "source": [
        "def fn(i):\n",
        "    # Base case: stop recursion if i > 10\n",
        "    if i > 10:\n",
        "        return\n",
        "\n",
        "    # Print the current value of i\n",
        "    print(i)\n",
        "\n",
        "    # Recursive call with i incremented by 1\n",
        "    fn(i + 1)\n",
        "\n",
        "# Start the recursion with i = 1\n",
        "fn(1)"
      ],
      "metadata": {
        "id": "2P54fP4qwgB2"
      },
      "execution_count": null,
      "outputs": []
    },
    {
      "cell_type": "code",
      "source": [
        "def fn(i):\n",
        "    # Base case: stop recursion if i > 3\n",
        "    if i > 3:\n",
        "        return\n",
        "\n",
        "    # Print the current value of i\n",
        "    print(i)\n",
        "\n",
        "    # Recursive call with i incremented by 1\n",
        "    fn(i + 1)\n",
        "\n",
        "    # Print after the recursive call ends for the current i\n",
        "    print(f\"End of call where i = {i}\")\n",
        "    return\n",
        "\n",
        "# Start the recursion with i = 1\n",
        "fn(1)"
      ],
      "metadata": {
        "colab": {
          "base_uri": "https://localhost:8080/"
        },
        "id": "CfvMvUwgxLBX",
        "outputId": "6b850c11-8001-46f9-9094-5930bd8a2082"
      },
      "execution_count": 1,
      "outputs": [
        {
          "output_type": "stream",
          "name": "stdout",
          "text": [
            "1\n",
            "2\n",
            "3\n",
            "End of call where i = 3\n",
            "End of call where i = 2\n",
            "End of call where i = 1\n"
          ]
        }
      ]
    },
    {
      "cell_type": "markdown",
      "source": [
        "As you can see, the line where we print text is executed in reverse order. The original call fn(1) first prints 1, then calls to fn(2), which prints 2, then calls to fn(3), which prints 3, then calls to fn(4). Now, this is the important part: how recursion \"moves\" back \"up\". fn(4) triggers the base case, which returns. We are now back in the function call where i = 3 and line 4 has finished, so we move to the line 5 which prints \"End of call where i = 3\". Once that line runs, we move to the next line, which is a return. Now, we are back in the function call where i = 2 and line 4 line has finished, so again we move to the next line and print \"End of the call where i = 2\". This repeats until the original function call to fn(1) returns."
      ],
      "metadata": {
        "id": "8lpfyNFVxWjv"
      }
    },
    {
      "cell_type": "markdown",
      "source": [
        "Every function call \"exists\" until it returns."
      ],
      "metadata": {
        "id": "C41_4lEBxdJL"
      }
    },
    {
      "cell_type": "markdown",
      "source": [
        "Fibonacci Sequence:"
      ],
      "metadata": {
        "id": "fPT6OKZ8yDj8"
      }
    },
    {
      "cell_type": "code",
      "source": [
        "def F(n):\n",
        "    # Base case: if n is 0 or 1, return n\n",
        "    if n <= 1:\n",
        "        return n\n",
        "\n",
        "    # Recursive calls for (n-1) and (n-2)\n",
        "    oneBack = F(n - 1)\n",
        "    twoBack = F(n - 2)\n",
        "\n",
        "    # Return the sum of the results\n",
        "    return oneBack + twoBack"
      ],
      "metadata": {
        "id": "PNzlRirAyI7r"
      },
      "execution_count": null,
      "outputs": []
    },
    {
      "cell_type": "markdown",
      "source": [
        "Let's say that we wanted to find F(3). Upon calling F(3), we would see the following flow, with each indentation level representing a function call's scope:"
      ],
      "metadata": {
        "id": "TBNQvi9uyPYc"
      }
    },
    {
      "cell_type": "code",
      "source": [
        "\"\"\"\n",
        "oneBack = F(2)\n",
        "    oneBack = F(1)\n",
        "        F(1) = 1\n",
        "    twoBack = F(0)\n",
        "        F(0) = 0\n",
        "    F(2) = oneBack + twoBack = 1\n",
        "twoBack = F(1)\n",
        "    F(1) = 1\n",
        "F(3) = oneBack + twoBack = 2\n",
        "\"\"\""
      ],
      "metadata": {
        "id": "wNwlwkuwyShN"
      },
      "execution_count": null,
      "outputs": []
    }
  ]
}