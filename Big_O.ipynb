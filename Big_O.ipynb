{
  "nbformat": 4,
  "nbformat_minor": 0,
  "metadata": {
    "colab": {
      "provenance": [],
      "authorship_tag": "ABX9TyPgppoJckwB1Slxs+AUQtuw",
      "include_colab_link": true
    },
    "kernelspec": {
      "name": "python3",
      "display_name": "Python 3"
    },
    "language_info": {
      "name": "python"
    }
  },
  "cells": [
    {
      "cell_type": "markdown",
      "metadata": {
        "id": "view-in-github",
        "colab_type": "text"
      },
      "source": [
        "<a href=\"https://colab.research.google.com/github/nathanschoeck/Data-Structures-and-Algorithms/blob/main/Big_O.ipynb\" target=\"_parent\"><img src=\"https://colab.research.google.com/assets/colab-badge.svg\" alt=\"Open In Colab\"/></a>"
      ]
    },
    {
      "cell_type": "markdown",
      "source": [
        "https://leetcode.com/explore/featured/card/leetcodes-interview-crash-course-data-structures-and-algorithms/715/introduction/4654/"
      ],
      "metadata": {
        "id": "AmTGjy9TNGlo"
      }
    },
    {
      "cell_type": "markdown",
      "source": [
        "Big O is a notation used to describe the computational complexity of an algorithm. The computational complexity of an algorithm is split into two parts: time complexity and space complexity. The time complexity of an algorithm is the amount of time the algorithm needs to run relative to the input size. The space complexity of an algorithm is the amount of memory allocated by the algorithm when run relative to the input size."
      ],
      "metadata": {
        "id": "qcVKmdbIl0VB"
      }
    },
    {
      "cell_type": "markdown",
      "source": [
        "#Analyzing time complexity"
      ],
      "metadata": {
        "id": "TI-Oi1kXowpm"
      }
    },
    {
      "cell_type": "code",
      "execution_count": null,
      "metadata": {
        "colab": {
          "base_uri": "https://localhost:8080/"
        },
        "id": "vOUnCOjjjreV",
        "outputId": "a700644c-45e1-4f59-96e8-082a190e0329"
      },
      "outputs": [
        {
          "output_type": "stream",
          "name": "stdout",
          "text": [
            "1\n",
            "2\n",
            "3\n",
            "4\n",
            "5\n"
          ]
        }
      ],
      "source": [
        "# Given an integer array \"arr\"\n",
        "arr = [1, 2, 3, 4, 5]\n",
        "\n",
        "# Iterate over the array\n",
        "for num in arr:\n",
        "    print(num)"
      ]
    },
    {
      "cell_type": "markdown",
      "source": [
        "time complexity: O(n)"
      ],
      "metadata": {
        "id": "LucbcZvnmTVU"
      }
    },
    {
      "cell_type": "code",
      "source": [
        "# Given an integer array \"arr\"\n",
        "arr = [1, 2, 3, 4, 5]  # Example array\n",
        "\n",
        "# Iterate over the array\n",
        "for num in arr:\n",
        "    # Inner loop to iterate 500,000 times\n",
        "    for i in range(500_000):  # Use an underscore for readability\n",
        "        print(num)"
      ],
      "metadata": {
        "id": "fnMB3Bkxl72i"
      },
      "execution_count": null,
      "outputs": []
    },
    {
      "cell_type": "markdown",
      "source": [
        "time complexity: O(n);\n",
        "This for loop iterates 500,000 times, which means each outer for loop iteration costs O(500000)=O(1). The outer for loop iterates n times, which gives a time complexity of O(n)."
      ],
      "metadata": {
        "id": "nL-Ccas7mi_k"
      }
    },
    {
      "cell_type": "code",
      "source": [
        "# Given an integer array \"arr\" with length n\n",
        "arr = [1, 2, 3, 4, 5]  # Example array\n",
        "\n",
        "# Nested loops to iterate over each pair of numbers in the array\n",
        "for num in arr:\n",
        "    for num2 in arr:\n",
        "        print(num * num2)"
      ],
      "metadata": {
        "id": "vWjEuOAmm-9X"
      },
      "execution_count": null,
      "outputs": []
    },
    {
      "cell_type": "markdown",
      "source": [
        "time complexity: O(n^2); The inner for loop runs n times, which means each outer for loop iteration costs O(n). The outer for loop runs O(n) times, which gives a time complexity of O(n⋅n)=O(n^2)."
      ],
      "metadata": {
        "id": "U-SGW-3qm_LM"
      }
    },
    {
      "cell_type": "code",
      "source": [
        "# Given integer arrays \"arr\" with length n and \"arr2\" with length m\n",
        "arr = [1, 2, 3, 4, 5]   # Example array for arr\n",
        "arr2 = [6, 7, 8, 9, 10]  # Example array for arr2\n",
        "\n",
        "# First loop: iterate over \"arr\" and print each element\n",
        "for num in arr:\n",
        "    print(num)\n",
        "\n",
        "# Second loop: iterate over \"arr\" again and print each element\n",
        "for num in arr:\n",
        "    print(num)\n",
        "\n",
        "# Third loop: iterate over \"arr2\" and print each element\n",
        "for num in arr2:\n",
        "    print(num)"
      ],
      "metadata": {
        "id": "WvDSKGhLn9X5"
      },
      "execution_count": null,
      "outputs": []
    },
    {
      "cell_type": "markdown",
      "source": [
        "This gives a time complexity of O(2n+m) = O(n+m)."
      ],
      "metadata": {
        "id": "sZWz9R4wn-ds"
      }
    },
    {
      "cell_type": "code",
      "source": [
        "# Given an integer array \"arr\" with length n\n",
        "arr = [1, 2, 3, 4, 5]  # Example array\n",
        "\n",
        "# Nested loops to iterate over all pairs (i, j) with i <= j\n",
        "for i in range(len(arr)):\n",
        "    for j in range(i, len(arr)):\n",
        "        print(arr[i] + arr[j])"
      ],
      "metadata": {
        "id": "6nDpjFIToFOZ"
      },
      "execution_count": null,
      "outputs": []
    },
    {
      "cell_type": "markdown",
      "source": [
        "time complexity: O(n^2); That means the total iterations is 1 + 2 + 3 + 4 + ... + n, which is the partial sum of this series, which is equal to (n⋅(n+1)/2) = ((n^2+n)/2). In big O, this is O(n^2) because the addition term in the numerator and the constant term in the denominator are both ignored."
      ],
      "metadata": {
        "id": "JwcNDAXkoM9Y"
      }
    },
    {
      "cell_type": "markdown",
      "source": [
        "#Analyzing space complexity"
      ],
      "metadata": {
        "id": "A26b4dYlo0uF"
      }
    },
    {
      "cell_type": "code",
      "source": [
        "# Given an integer array \"arr\" with length n\n",
        "arr = [1, 2, 3, 4, 5]  # Example array\n",
        "\n",
        "# Iterate over the array and print each element\n",
        "for num in arr:\n",
        "    print(num)"
      ],
      "metadata": {
        "id": "Ts1nHTkDo356"
      },
      "execution_count": null,
      "outputs": []
    },
    {
      "cell_type": "markdown",
      "source": [
        "This algorithm has a space complexity of O(1). The only space allocated is an integer variable num, which is constant relative to n."
      ],
      "metadata": {
        "id": "1OCojYkfo_zL"
      }
    },
    {
      "cell_type": "code",
      "source": [
        "# Given an integer array \"arr\" with length n\n",
        "arr = [1, 2, 3, 4, 5]  # Example array\n",
        "\n",
        "# Create an array to store the doubled numbers\n",
        "doubled_nums = []\n",
        "\n",
        "# Iterate over the array and double each number\n",
        "for num in arr:\n",
        "    doubled_nums.append(num * 2)\n",
        "\n",
        "# Print the doubled numbers\n",
        "print(doubled_nums)"
      ],
      "metadata": {
        "id": "N8j6PpfqpOVm"
      },
      "execution_count": null,
      "outputs": []
    },
    {
      "cell_type": "markdown",
      "source": [
        "This algorithm has a space complexity of O(n). The array doubledNums stores n integers at the end of the algorithm."
      ],
      "metadata": {
        "id": "BUSuU0CKpSET"
      }
    },
    {
      "cell_type": "code",
      "source": [
        "# Given an integer array \"arr\" with length n\n",
        "arr = [i for i in range(1, 101)]  # Example array with 100 elements\n",
        "\n",
        "# Initialize an empty list to store results\n",
        "nums = []\n",
        "\n",
        "# Calculate one-hundredth of the array's length\n",
        "one_hundredth = len(arr) // 100\n",
        "\n",
        "# Iterate through the first one-hundredth of the array and add elements to nums\n",
        "for i in range(one_hundredth):\n",
        "    nums.append(arr[i])\n",
        "\n",
        "# Print the resulting nums list\n",
        "print(nums)"
      ],
      "metadata": {
        "id": "vhkDwEm6pW5d"
      },
      "execution_count": null,
      "outputs": []
    },
    {
      "cell_type": "markdown",
      "source": [
        "This algorithm has a space complexity of O(n). The array nums stores the first 1% of numbers in arr. This gives a space complexity of O(n/100) = O(n)."
      ],
      "metadata": {
        "id": "zJbUzhbFphtD"
      }
    },
    {
      "cell_type": "code",
      "source": [
        "# Given integer arrays \"arr\" with length n and \"arr2\" with length m\n",
        "arr = [1, 2, 3]   # Example array for arr\n",
        "arr2 = [4, 5, 6]  # Example array for arr2\n",
        "\n",
        "# Initialize a 2D grid (n x m) to store results\n",
        "grid = [[0 for _ in range(len(arr2))] for _ in range(len(arr))]\n",
        "\n",
        "# Populate the grid with the product of arr[i] and arr2[j]\n",
        "for i in range(len(arr)):\n",
        "    for j in range(len(arr2)):\n",
        "        grid[i][j] = arr[i] * arr2[j]\n",
        "\n",
        "# Print the resulting grid\n",
        "for row in grid:\n",
        "    print(row)"
      ],
      "metadata": {
        "id": "TjVzfYS9psji"
      },
      "execution_count": null,
      "outputs": []
    },
    {
      "cell_type": "markdown",
      "source": [
        "This algorithm has a space complexity of O(n⋅m). We are creating a grid that has dimensions n⋅m."
      ],
      "metadata": {
        "id": "mPfd5Lpsp7AD"
      }
    }
  ]
}