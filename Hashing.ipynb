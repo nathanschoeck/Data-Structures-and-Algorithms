{
  "nbformat": 4,
  "nbformat_minor": 0,
  "metadata": {
    "colab": {
      "provenance": [],
      "authorship_tag": "ABX9TyMzAIGbhsTONrD2vE8sEHQF",
      "include_colab_link": true
    },
    "kernelspec": {
      "name": "python3",
      "display_name": "Python 3"
    },
    "language_info": {
      "name": "python"
    }
  },
  "cells": [
    {
      "cell_type": "markdown",
      "metadata": {
        "id": "view-in-github",
        "colab_type": "text"
      },
      "source": [
        "<a href=\"https://colab.research.google.com/github/nathanschoeck/Data-Structures-and-Algorithms/blob/main/Hashing.ipynb\" target=\"_parent\"><img src=\"https://colab.research.google.com/assets/colab-badge.svg\" alt=\"Open In Colab\"/></a>"
      ]
    },
    {
      "cell_type": "markdown",
      "source": [
        "https://leetcode.com/explore/featured/card/leetcodes-interview-crash-course-data-structures-and-algorithms/705/hashing/4510/"
      ],
      "metadata": {
        "id": "UT_f7buQM0Xg"
      }
    },
    {
      "cell_type": "markdown",
      "source": [
        "#Hashing"
      ],
      "metadata": {
        "id": "ZrnIQkxpRW5U"
      }
    },
    {
      "cell_type": "markdown",
      "source": [
        "A hash function is a function that takes an input and deterministically converts it to an integer that is less than a fixed size set by the programmer. Inputs are called keys and the same input will always be converted to the same integer."
      ],
      "metadata": {
        "id": "Qg65cMs6Rcof"
      }
    },
    {
      "cell_type": "markdown",
      "source": [
        "When a hash function is combined with an array, it creates a hash map, also known as a hash table or dictionary."
      ],
      "metadata": {
        "id": "egTs9vrBSeEf"
      }
    },
    {
      "cell_type": "markdown",
      "source": [
        "With arrays, we map indices to values. With hash maps, we map keys to values, and a key can be almost anything. Typically, the only constraint on a hash map's key is that it has to be immutable."
      ],
      "metadata": {
        "id": "ODcDJ845Slbl"
      }
    },
    {
      "cell_type": "markdown",
      "source": [
        "To summarize, a hash map is an unordered data structure that stores key-value pairs. A hash map can add and remove elements in O(1), as well as update values associated with a key and check if a key exists, also in O(1)."
      ],
      "metadata": {
        "id": "dslzFhpBTCVL"
      }
    },
    {
      "cell_type": "markdown",
      "source": [
        "The biggest disadvantage of hash maps is that for smaller input sizes, they can be slower due to overhead. Because big O ignores constants, the O(1) time complexity can sometimes be deceiving - it's usually something more like O(10) because every key needs to go through the hash function."
      ],
      "metadata": {
        "id": "j_WYSDZiTnK2"
      }
    },
    {
      "cell_type": "markdown",
      "source": [
        "When different keys convert to the same integer, it is called a collision."
      ],
      "metadata": {
        "id": "-jMPP5DDUZg7"
      }
    },
    {
      "cell_type": "markdown",
      "source": [
        "The most important thing is that the size of your hash table's array and modulus is a prime number. Prime numbers near significant magnitudes that are common to use are:\n",
        "\n",
        "10,007\n",
        "1,000,003\n",
        "1,000,000,007"
      ],
      "metadata": {
        "id": "AlZ39Qi0Uz7N"
      }
    },
    {
      "cell_type": "markdown",
      "source": [
        "The difference between a set and hash table is that sets do not map their keys to anything. Sets are more convenient to use when you only care about checking if elements exist"
      ],
      "metadata": {
        "id": "C9Fwdj9eU8Zf"
      }
    },
    {
      "cell_type": "markdown",
      "source": [
        "Arrays are mutable, so how do we store an ordered collection of elements as a key? n Python, tuples are immutable, so it's as easy as doing tuple(arr). Another trick is to convert the array into a string."
      ],
      "metadata": {
        "id": "T4OzhDcsVNqf"
      }
    },
    {
      "cell_type": "code",
      "execution_count": null,
      "metadata": {
        "id": "m9pajmzxPXci"
      },
      "outputs": [],
      "source": [
        "# Declaration: a hash map is declared like any other variable. The syntax is {}\n",
        "hash_map = {}\n",
        "\n",
        "# If you want to initialize it with some key value pairs, use the following syntax:\n",
        "hash_map = {1: 2, 5: 3, 7: 2}\n",
        "\n",
        "# Checking if a key exists: simply use the `in` keyword\n",
        "1 in hash_map # True\n",
        "9 in hash_map # False\n",
        "\n",
        "# Accessing a value given a key: use square brackets, similar to an array.\n",
        "hash_map[5] # 3\n",
        "\n",
        "# Adding or updating a key: use square brackets, similar to an array.\n",
        "# If the key already exists, the value will be updated\n",
        "hash_map[5] = 6\n",
        "\n",
        "# If the key doesn't exist yet, the key value pair will be inserted\n",
        "hash_map[9] = 15\n",
        "\n",
        "# Deleting a key: use the del keyword. Key must exist or you will get an error.\n",
        "del hash_map[9]\n",
        "\n",
        "# Get size\n",
        "len(hash_map) # 3\n",
        "\n",
        "# Get keys: use .keys(). You can iterate over this using a for loop.\n",
        "keys = hash_map.keys()\n",
        "for key in keys:\n",
        "    print(key)\n",
        "\n",
        "# Get values: use .values(). You can iterate over this using a for loop.\n",
        "values = hash_map.values()\n",
        "for val in values:\n",
        "    print(val)"
      ]
    },
    {
      "cell_type": "markdown",
      "source": [
        "#Checking for Existence"
      ],
      "metadata": {
        "id": "dqZij3NrRUC7"
      }
    },
    {
      "cell_type": "markdown",
      "source": [
        "Two Sum\n",
        "\n",
        "Given an array of integers nums and an integer target, return indices of two numbers such that they add up to target. You cannot use the same index twice."
      ],
      "metadata": {
        "id": "AqwPq5R6Rpbb"
      }
    },
    {
      "cell_type": "code",
      "source": [
        "class Solution:\n",
        "    def twoSum(self, nums: List[int], target: int) -> List[int]:\n",
        "        dic = {}\n",
        "        for i in range(len(nums)):\n",
        "            num = nums[i]\n",
        "            complement = target - num\n",
        "            if complement in dic: # This operation is O(1)!\n",
        "                return [i, dic[complement]]\n",
        "\n",
        "            dic[num] = i\n",
        "\n",
        "        return [-1, -1]"
      ],
      "metadata": {
        "id": "mesBhzvuRQo7"
      },
      "execution_count": null,
      "outputs": []
    },
    {
      "cell_type": "markdown",
      "source": [
        "First Letter to Appear Twice\n",
        "\n",
        "Given a string s, return the first character to appear twice. It is guaranteed that the input will have a duplicate character."
      ],
      "metadata": {
        "id": "dTG6QeDjV_1c"
      }
    },
    {
      "cell_type": "code",
      "source": [
        "class Solution:\n",
        "    def repeatedCharacter(self, s: str) -> str:\n",
        "        seen = set()\n",
        "        for c in s:\n",
        "            if c in seen:\n",
        "                return c\n",
        "            seen.add(c)\n",
        "\n",
        "        return \" \""
      ],
      "metadata": {
        "id": "OeurDmL_ViO-"
      },
      "execution_count": null,
      "outputs": []
    },
    {
      "cell_type": "markdown",
      "source": [
        "Time complexity: O(n)\n",
        "Many people will argue that the space complexity is O(1) because the input can only have characters from the English alphabet, which is bounded by a constant (26). The space complexity could be O(m), where m is the number of allowable characters in the input."
      ],
      "metadata": {
        "id": "zOQ-7pIcWO26"
      }
    },
    {
      "cell_type": "markdown",
      "source": [
        "Given an integer array nums, find all the unique numbers x in nums that satisfy the following: x + 1 is not in nums, and x - 1 is not in nums."
      ],
      "metadata": {
        "id": "XGrnD6yDanHq"
      }
    },
    {
      "cell_type": "code",
      "source": [
        "def find_numbers(nums):\n",
        "    ans = []\n",
        "    nums = set(nums)\n",
        "\n",
        "    for num in nums:\n",
        "        if (num + 1 not in nums) and (num - 1 not in nums):\n",
        "            ans.append(num)\n",
        "\n",
        "    return ans"
      ],
      "metadata": {
        "id": "49xO3JIkam3J"
      },
      "execution_count": null,
      "outputs": []
    },
    {
      "cell_type": "markdown",
      "source": [
        "Time and space complexity: O(n)."
      ],
      "metadata": {
        "id": "0DIhosM2bcSi"
      }
    },
    {
      "cell_type": "markdown",
      "source": [
        "Check if the Sentence Is Pangram"
      ],
      "metadata": {
        "id": "BmIVq__AdcrK"
      }
    },
    {
      "cell_type": "markdown",
      "source": [
        "A pangram is a sentence where every letter of the English alphabet appears at least once.\n",
        "\n",
        "Given a string sentence containing only lowercase English letters, return true if sentence is a pangram, or false otherwise."
      ],
      "metadata": {
        "id": "B6D2c2qcdj0Z"
      }
    },
    {
      "cell_type": "code",
      "source": [
        "class Solution:\n",
        "    def checkIfPangram(self, sentence: str) -> bool:\n",
        "        # We iterate over 'sentence' for 26 times, one for each letter 'curr_char'.\n",
        "        for i in range(26):\n",
        "            curr_char = chr(ord('a') + i)\n",
        "\n",
        "            # If 'sentence' doesn't contain 'curr_char', it is not a pangram.\n",
        "            if sentence.find(curr_char) == -1:\n",
        "                return False\n",
        "\n",
        "        # If we manage to find all 26 letters, it is a pangram.\n",
        "        return True"
      ],
      "metadata": {
        "id": "mmbLAtR7dc0t"
      },
      "execution_count": null,
      "outputs": []
    },
    {
      "cell_type": "markdown",
      "source": [
        "Missing Number"
      ],
      "metadata": {
        "id": "NJTR5EG5eDK-"
      }
    },
    {
      "cell_type": "markdown",
      "source": [
        "Given an array nums containing n distinct numbers in the range [0, n], return the only number in the range that is missing from the array."
      ],
      "metadata": {
        "id": "8c2zaSjpeFi8"
      }
    },
    {
      "cell_type": "code",
      "source": [
        "class Solution:\n",
        "    def missingNumber(self, nums: List[int]) -> int:\n",
        "        nums.sort()\n",
        "\n",
        "        #Check last and first number\n",
        "        if nums[0] != 0:\n",
        "            return 0\n",
        "        elif nums[len(nums)-1] != len(nums):\n",
        "            return len(nums)\n",
        "\n",
        "        #Check remaining numbers\n",
        "        for i in range(1, len(nums)):\n",
        "            expected_num = nums[i-1] + 1\n",
        "            if expected_num != nums[i]:\n",
        "                return expected_num"
      ],
      "metadata": {
        "id": "V1V-kDd3eGJU"
      },
      "execution_count": null,
      "outputs": []
    },
    {
      "cell_type": "markdown",
      "source": [
        "Counting Elements"
      ],
      "metadata": {
        "id": "EDNbTIV4r52J"
      }
    },
    {
      "cell_type": "markdown",
      "source": [
        "Given an integer array arr, count how many elements x there are, such that x + 1 is also in arr. If there are duplicates in arr, count them separately."
      ],
      "metadata": {
        "id": "KkZ20oIBsPk6"
      }
    },
    {
      "cell_type": "code",
      "source": [
        "class Solution:\n",
        "    def countElements(self, arr: List[int]) -> int:\n",
        "        count = 0\n",
        "        for x in arr:\n",
        "            if x + 1 in arr:\n",
        "                count += 1\n",
        "        return count"
      ],
      "metadata": {
        "id": "dCKg6_u_sP9A"
      },
      "execution_count": null,
      "outputs": []
    },
    {
      "cell_type": "markdown",
      "source": [
        "#Counting"
      ],
      "metadata": {
        "id": "WU5Q-cuntjPA"
      }
    },
    {
      "cell_type": "markdown",
      "source": [
        "By \"counting\", we are referring to tracking the frequency of things. This means our hash map will be mapping keys to integers."
      ],
      "metadata": {
        "id": "pIM_-wp_txP4"
      }
    },
    {
      "cell_type": "markdown",
      "source": [
        "You are given a string s and an integer k. Find the length of the longest substring that contains at most k distinct characters.\n",
        "\n",
        "For example, given s = \"eceba\" and k = 2, return 3. The longest substring with at most 2 distinct characters is \"ece\"."
      ],
      "metadata": {
        "id": "Wz0Ajts1l3A4"
      }
    },
    {
      "cell_type": "code",
      "source": [
        "from collections import defaultdict\n",
        "\n",
        "def find_longest_substring(s, k):\n",
        "    counts = defaultdict(int)\n",
        "    left = ans = 0\n",
        "    for right in range(len(s)):\n",
        "        counts[s[right]] += 1\n",
        "        while len(counts) > k:\n",
        "            counts[s[left]] -= 1\n",
        "            if counts[s[left]] == 0:\n",
        "                del counts[s[left]]\n",
        "            left += 1\n",
        "\n",
        "        ans = max(ans, right - left + 1)\n",
        "\n",
        "    return ans"
      ],
      "metadata": {
        "id": "XSARU2Mstgq6"
      },
      "execution_count": null,
      "outputs": []
    },
    {
      "cell_type": "markdown",
      "source": [
        "Intersection of Multiple Arrays\n",
        "\n",
        "Given a 2D array nums that contains n arrays of distinct integers, return a sorted array containing all the numbers that appear in all n arrays.\n",
        "\n",
        "For example, given nums = [[3,1,2,4,5],[1,2,3,4],[3,4,5,6]], return [3, 4]. 3 and 4 are the only numbers that are in all arrays."
      ],
      "metadata": {
        "id": "BWHUPSBtFkXc"
      }
    },
    {
      "cell_type": "code",
      "source": [
        "from collections import defaultdict\n",
        "\n",
        "class Solution:\n",
        "    def intersection(self, nums: List[List[int]]) -> List[int]:\n",
        "        counts = defaultdict(int)\n",
        "        for arr in nums:\n",
        "            for x in arr:\n",
        "                counts[x] += 1\n",
        "\n",
        "        n = len(nums)\n",
        "        ans = []\n",
        "        for key in counts:\n",
        "            if counts[key] == n:\n",
        "                ans.append(key)\n",
        "\n",
        "        return sorted(ans)"
      ],
      "metadata": {
        "id": "96qmfjBRFvnT"
      },
      "execution_count": null,
      "outputs": []
    },
    {
      "cell_type": "markdown",
      "source": [
        "Check if All Characters Have Equal Number of Occurrences\n",
        "\n",
        "Given a string s, determine if all characters have the same frequency.\n",
        "\n",
        "For example, given s = \"abacbc\", return true. All characters appear twice. Given s = \"aaabb\", return false. \"a\" appears 3 times, \"b\" appears 2 times. 3 != 2."
      ],
      "metadata": {
        "id": "usXPq9EGGLjD"
      }
    },
    {
      "cell_type": "code",
      "source": [
        "from collections import defaultdict\n",
        "\n",
        "class Solution:\n",
        "    def areOccurrencesEqual(self, s: str) -> bool:\n",
        "        counts = defaultdict(int)\n",
        "        for c in s:\n",
        "            counts[c] += 1\n",
        "\n",
        "        frequencies = counts.values()\n",
        "        return len(set(frequencies)) == 1"
      ],
      "metadata": {
        "id": "VPdZlYrvGMTe"
      },
      "execution_count": null,
      "outputs": []
    },
    {
      "cell_type": "markdown",
      "source": [
        "Subarray Sum Equals K\n",
        "\n",
        "Given an integer array nums and an integer k, find the number of subarrays whose sum is equal to k"
      ],
      "metadata": {
        "id": "0y80_-7vSRvE"
      }
    },
    {
      "cell_type": "code",
      "source": [
        "from collections import defaultdict\n",
        "\n",
        "class Solution:\n",
        "    def subarraySum(self, nums: List[int], k: int) -> int:\n",
        "        counts = defaultdict(int)\n",
        "        counts[0] = 1\n",
        "        ans = curr = 0\n",
        "\n",
        "        for num in nums:\n",
        "            curr += num\n",
        "            ans += counts[curr - k]\n",
        "            counts[curr] += 1\n",
        "\n",
        "        return ans"
      ],
      "metadata": {
        "id": "s5AkSCFoSSR5"
      },
      "execution_count": null,
      "outputs": []
    },
    {
      "cell_type": "markdown",
      "source": [
        "Find Players With Zero or One Losses\n",
        "\n",
        "You are given an integer array matches where matches[i] = [winneri, loseri] indicates that the player winneri defeated player loseri in a match.\n",
        "\n",
        "Return a list answer of size 2 where:\n",
        "\n",
        "answer[0] is a list of all players that have not lost any matches.\n",
        "answer[1] is a list of all players that have lost exactly one match.\n",
        "The values in the two lists should be returned in increasing order."
      ],
      "metadata": {
        "id": "VQDiQ9OxjsLY"
      }
    },
    {
      "cell_type": "code",
      "source": [
        "class Solution:\n",
        "    def findWinners(self, matches: List[List[int]]) -> List[List[int]]:\n",
        "        zero_loss = set()\n",
        "        one_loss = set()\n",
        "        more_losses = set()\n",
        "\n",
        "        for winner, loser in matches:\n",
        "            # Add winner\n",
        "            if (winner not in one_loss) and (winner not in more_losses):\n",
        "                zero_loss.add(winner)\n",
        "            # Add or move loser.\n",
        "            if loser in zero_loss:\n",
        "                zero_loss.remove(loser)\n",
        "                one_loss.add(loser)\n",
        "            elif loser in one_loss:\n",
        "                one_loss.remove(loser)\n",
        "                more_losses.add(loser)\n",
        "            elif loser in more_losses:\n",
        "                continue\n",
        "            else:\n",
        "                one_loss.add(loser)\n",
        "\n",
        "        return [sorted(list(zero_loss)), sorted(list(one_loss))]"
      ],
      "metadata": {
        "id": "L3blssMejvYo"
      },
      "execution_count": null,
      "outputs": []
    },
    {
      "cell_type": "markdown",
      "source": [
        "Largest Unique Number\n",
        "Given an integer array nums, return the largest integer that only occurs once. If no integer occurs once, return -1."
      ],
      "metadata": {
        "id": "ZlWsLN1wmkqk"
      }
    },
    {
      "cell_type": "code",
      "source": [
        "class Solution:\n",
        "    def largestUniqueNumber(self, nums: List[int]) -> int:\n",
        "        n = len(nums)\n",
        "\n",
        "        # If there's only one element, it's unique by default\n",
        "        if n == 1:\n",
        "            return nums[0]\n",
        "\n",
        "        nums.sort(reverse=True)\n",
        "\n",
        "        # Start from the beginning (largest numbers)\n",
        "        currentIndex = 0\n",
        "\n",
        "        while currentIndex < n:\n",
        "            # If it's the first element or different from the next one, it's unique\n",
        "            if (\n",
        "                currentIndex == n - 1\n",
        "                or nums[currentIndex] != nums[currentIndex + 1]\n",
        "            ):\n",
        "                return nums[currentIndex]\n",
        "            # Skip duplicates\n",
        "            while (\n",
        "                currentIndex < n - 1\n",
        "                and nums[currentIndex] == nums[currentIndex + 1]\n",
        "            ):\n",
        "                currentIndex += 1\n",
        "            # Move to the next unique number\n",
        "            currentIndex += 1\n",
        "\n",
        "        return -1"
      ],
      "metadata": {
        "id": "dk7EaxkGmm2Y"
      },
      "execution_count": null,
      "outputs": []
    },
    {
      "cell_type": "markdown",
      "source": [
        "Maximum Number of Balloons\n",
        "\n",
        "Given a string text, you want to use the characters of text to form as many instances of the word \"balloon\" as possible.\n",
        "\n",
        "You can use each character in text at most once. Return the maximum number of instances that can be formed."
      ],
      "metadata": {
        "id": "8gFuMunpnEuF"
      }
    },
    {
      "cell_type": "code",
      "source": [
        "class Solution:\n",
        "    def maxNumberOfBalloons(self, text: str) -> int:\n",
        "        # init HashMap (mp)\n",
        "        text = text.lower()\n",
        "        mp: dict = {}\n",
        "        mp[\"b\"] = 0\n",
        "        mp[\"a\"] = 0\n",
        "        mp[\"l\"] = 0\n",
        "        mp[\"o\"] = 0\n",
        "        mp[\"n\"] = 0\n",
        "\n",
        "        # declare HashMap\n",
        "        for txt in text:\n",
        "            if txt in mp:\n",
        "                mp[txt] += 1\n",
        "\n",
        "        # return min -> bottleneck\n",
        "        return min(mp[\"b\"], mp[\"a\"], mp[\"l\"]//2, mp[\"o\"]//2, mp[\"n\"])"
      ],
      "metadata": {
        "id": "pdVtu_0VnHsz"
      },
      "execution_count": null,
      "outputs": []
    },
    {
      "cell_type": "markdown",
      "source": [
        "Contiguous Array\n",
        "\n",
        "Given a binary array nums, return the maximum length of a contiguous subarray with an equal number of 0 and 1."
      ],
      "metadata": {
        "id": "Yt3ma92bABXc"
      }
    },
    {
      "cell_type": "code",
      "source": [
        "class Solution(object):\n",
        "    def findMaxLength(self, nums):\n",
        "        count = 0\n",
        "        max_length=0\n",
        "        table = {0: 0}\n",
        "        for index, num in enumerate(nums, 1):\n",
        "            if num == 0:\n",
        "                count -= 1\n",
        "            else:\n",
        "                count += 1\n",
        "\n",
        "            if count in table:\n",
        "                max_length = max(max_length, index - table[count])\n",
        "            else:\n",
        "                table[count] = index\n",
        "\n",
        "        return max_length"
      ],
      "metadata": {
        "id": "Dqd4rzvNAeOd"
      },
      "execution_count": null,
      "outputs": []
    },
    {
      "cell_type": "markdown",
      "source": [
        "Group Anagrams\n",
        "\n",
        "Given an array of strings strs, group the anagrams together.\n",
        "\n",
        "For example, given strs = [\"eat\",\"tea\",\"tan\",\"ate\",\"nat\",\"bat\"], return [[\"bat\"],[\"nat\",\"tan\"],[\"ate\",\"eat\",\"tea\"]]."
      ],
      "metadata": {
        "id": "JqzkBctlX-Ah"
      }
    },
    {
      "cell_type": "code",
      "source": [
        "from collections import defaultdict\n",
        "\n",
        "class Solution:\n",
        "    def groupAnagrams(self, strs: List[str]) -> List[List[str]]:\n",
        "        groups = defaultdict(list)\n",
        "        for s in strs:\n",
        "            key = \"\".join(sorted(s))\n",
        "            groups[key].append(s)\n",
        "\n",
        "        return list(groups.values())"
      ],
      "metadata": {
        "id": "YWGNRTDMX-kE"
      },
      "execution_count": null,
      "outputs": []
    },
    {
      "cell_type": "markdown",
      "source": [
        "Minimum Consecutive Cards to Pick Up\n",
        "\n",
        "Given an integer array cards, find the length of the shortest subarray that contains at least one duplicate. If the array has no duplicates, return -1."
      ],
      "metadata": {
        "id": "nwuaNiFFpU4a"
      }
    },
    {
      "cell_type": "code",
      "source": [
        "from collections import defaultdict\n",
        "\n",
        "class Solution:\n",
        "    def minimumCardPickup(self, cards: List[int]) -> int:\n",
        "        dic = defaultdict(list)\n",
        "        for i in range(len(cards)):\n",
        "            dic[cards[i]].append(i)\n",
        "\n",
        "        ans = float(\"inf\")\n",
        "        for key in dic:\n",
        "            arr = dic[key]\n",
        "            for i in range(len(arr) - 1):\n",
        "                ans = min(ans, arr[i + 1] - arr[i] + 1)\n",
        "\n",
        "        return ans if ans < float(\"inf\") else -1"
      ],
      "metadata": {
        "id": "vbRvhFQTpa0M"
      },
      "execution_count": null,
      "outputs": []
    },
    {
      "cell_type": "markdown",
      "source": [
        "Max Sum of a Pair With Equal Sum of Digits\n",
        "\n",
        "Given an array of integers nums, find the maximum value of nums[i] + nums[j], where nums[i] and nums[j] have the same digit sum (the sum of their individual digits). Return -1 if there is no pair of numbers with the same digit sum."
      ],
      "metadata": {
        "id": "Ew_-wmgQqcLA"
      }
    },
    {
      "cell_type": "code",
      "source": [
        "from collections import defaultdict\n",
        "\n",
        "class Solution:\n",
        "    def maximumSum(self, nums: List[int]) -> int:\n",
        "        def get_digit_sum(num):\n",
        "            digit_sum = 0\n",
        "            while num:\n",
        "                digit_sum += num % 10\n",
        "                num //= 10\n",
        "\n",
        "            return digit_sum\n",
        "\n",
        "        dic = defaultdict(list)\n",
        "        for num in nums:\n",
        "            digit_sum = get_digit_sum(num)\n",
        "            dic[digit_sum].append(num)\n",
        "\n",
        "        ans = -1\n",
        "        for key in dic:\n",
        "            curr = dic[key]\n",
        "            if len(curr) > 1:\n",
        "                curr.sort(reverse=True)\n",
        "                ans = max(ans, curr[0] + curr[1])\n",
        "\n",
        "        return ans"
      ],
      "metadata": {
        "id": "FwEL_n9zqdNK"
      },
      "execution_count": null,
      "outputs": []
    },
    {
      "cell_type": "markdown",
      "source": [
        "Equal Row and Column Pairs\n",
        "\n",
        "Given an n x n matrix grid, return the number of pairs (R, C) where R is a row and C is a column, and R and C are equal if we consider them as 1D arrays."
      ],
      "metadata": {
        "id": "atjFA4RPqnbC"
      }
    },
    {
      "cell_type": "code",
      "source": [
        "from collections import defaultdict\n",
        "\n",
        "class Solution:\n",
        "    def equalPairs(self, grid: List[List[int]]) -> int:\n",
        "        def convert_to_key(arr):\n",
        "            # Python is quite a nice language for coding interviews!\n",
        "            return tuple(arr)\n",
        "\n",
        "        dic = defaultdict(int)\n",
        "        for row in grid:\n",
        "            dic[convert_to_key(row)] += 1\n",
        "\n",
        "        dic2 = defaultdict(int)\n",
        "        for col in range(len(grid[0])):\n",
        "            current_col = []\n",
        "            for row in range(len(grid)):\n",
        "                current_col.append(grid[row][col])\n",
        "\n",
        "            dic2[convert_to_key(current_col)] += 1\n",
        "\n",
        "        ans = 0\n",
        "        for arr in dic:\n",
        "            ans += dic[arr] * dic2[arr]\n",
        "\n",
        "        return ans"
      ],
      "metadata": {
        "id": "q7Z-ziR_qqnJ"
      },
      "execution_count": null,
      "outputs": []
    },
    {
      "cell_type": "markdown",
      "source": [
        "Ransom Note\n",
        "\n",
        "Given two strings ransomNote and magazine, return true if ransomNote can be constructed by using the letters from magazine and false otherwise.\n",
        "\n",
        "Each letter in magazine can only be used once in ransomNote."
      ],
      "metadata": {
        "id": "rYsk0FO1qzg_"
      }
    },
    {
      "cell_type": "code",
      "source": [
        "class Solution:\n",
        "    def canConstruct(self, ransomNote: str, magazine: str) -> bool:\n",
        "        # For each character, c,  in the ransom note.\n",
        "        for c in ransomNote:\n",
        "            # If there are none of c left in the String, return False.\n",
        "            if c not in magazine:\n",
        "                return False\n",
        "            # Find the index of the first occurrence of c in the magazine.\n",
        "            location = magazine.index(c)\n",
        "            # Use splicing to make a new string with the characters\n",
        "            # before \"location\" (but not including), and the characters\n",
        "            #after \"location\".\n",
        "            magazine = magazine[:location] + magazine[location + 1:]\n",
        "        # If we got this far, we can successfully build the note.\n",
        "        return True"
      ],
      "metadata": {
        "id": "XzlPS8hoq1aQ"
      },
      "execution_count": null,
      "outputs": []
    },
    {
      "cell_type": "markdown",
      "source": [
        "Jewels and Stones\n",
        "\n",
        "You're given strings jewels representing the types of stones that are jewels, and stones representing the stones you have. Each character in stones is a type of stone you have. You want to know how many of the stones you have are also jewels.\n",
        "\n",
        "Letters are case sensitive, so \"a\" is considered a different type of stone from \"A\"."
      ],
      "metadata": {
        "id": "kY4CgBWbsE1X"
      }
    },
    {
      "cell_type": "code",
      "source": [
        "class Solution:\n",
        "    def numJewelsInStones(self, jewels: str, stones: str) -> int:\n",
        "        return sum(s in jewels for s in stones)"
      ],
      "metadata": {
        "id": "0ZPFl3oRsOt9"
      },
      "execution_count": null,
      "outputs": []
    },
    {
      "cell_type": "markdown",
      "source": [
        "Longest Substring Without Repeating Characters\n",
        "\n",
        "Given a string s, find the length of the longest substring without repeating characters."
      ],
      "metadata": {
        "id": "A1Q37vbZskkA"
      }
    },
    {
      "cell_type": "code",
      "source": [
        "class Solution:\n",
        "    def lengthOfLongestSubstring(self, s: str) -> int:\n",
        "        n = len(s)\n",
        "        maxLength = 0\n",
        "        charSet = set()\n",
        "        left = 0\n",
        "\n",
        "        for right in range(n):\n",
        "            if s[right] not in charSet:\n",
        "                charSet.add(s[right])\n",
        "                maxLength = max(maxLength, right - left + 1)\n",
        "            else:\n",
        "                while s[right] in charSet:\n",
        "                    charSet.remove(s[left])\n",
        "                    left += 1\n",
        "                charSet.add(s[right])\n",
        "\n",
        "        return maxLength"
      ],
      "metadata": {
        "id": "hqdhzW_Ys2zS"
      },
      "execution_count": null,
      "outputs": []
    },
    {
      "cell_type": "markdown",
      "source": [
        "# Hashing quiz"
      ],
      "metadata": {
        "id": "Z7YgfJwEtd4-"
      }
    },
    {
      "cell_type": "markdown",
      "source": [
        "Which of the following can be stored as a key in a hash map?\n",
        "\n",
        "Integer\n",
        "\n",
        "Immutable string\n",
        "\n",
        "Boolean\n",
        "\n",
        "Float"
      ],
      "metadata": {
        "id": "bHo0K3T0tfeB"
      }
    },
    {
      "cell_type": "markdown",
      "source": [
        "Which of the following can be stored as a value in a hash map?\n",
        "\n",
        "Array/list\n",
        "\n",
        "Integer\n",
        "\n",
        "Mutable string\n",
        "\n",
        "Immutable string\n",
        "\n",
        "Boolean\n",
        "\n",
        "Float"
      ],
      "metadata": {
        "id": "CvsypPiGtlCF"
      }
    },
    {
      "cell_type": "markdown",
      "source": [
        "Let's say you had a terrible hash function. It just returns the number 1337. Collisions are handled with chaining. What is the average time complexity of checking if a key exists for your hash map?\n",
        "\n",
        "O(n)"
      ],
      "metadata": {
        "id": "T30kCKPAttz2"
      }
    },
    {
      "cell_type": "markdown",
      "source": [
        "You are asked to implement your own hash map. What are good things to do?\n",
        "\n",
        "Use a prime number modulus in your hash function\n",
        "\n",
        "Design a hash function that spreads hashes evenly\n",
        "\n",
        "Implement some sort of method to handle collisions"
      ],
      "metadata": {
        "id": "Q2vpivXPt2p1"
      }
    },
    {
      "cell_type": "markdown",
      "source": [
        "For small inputs, an array can be faster than a hash map. Why?\n",
        "\n",
        "There is overhead associated with a hash map such as the hash function"
      ],
      "metadata": {
        "id": "FUVVUw97ub7E"
      }
    }
  ]
}